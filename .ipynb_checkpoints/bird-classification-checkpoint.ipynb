{
 "cells": [
  {
   "cell_type": "markdown",
   "metadata": {},
   "source": [
    "## IMPORTING LIBRARY"
   ]
  },
  {
   "cell_type": "code",
   "execution_count": 41,
   "metadata": {},
   "outputs": [],
   "source": [
    "import tensorflow as tf\n",
    "import zipfile\n",
    "import os\n",
    "import matplotlib.pyplot as plt\n",
    "\n",
    "from tensorflow.keras.preprocessing import image\n",
    "from tensorflow.keras.preprocessing.image import ImageDataGenerator\n",
    "from tensorflow.keras.models import Sequential\n",
    "from tensorflow.keras.layers import Conv2D\n",
    "from tensorflow.keras.layers import MaxPooling2D\n",
    "from tensorflow.keras.layers import Flatten\n",
    "from tensorflow.keras.layers import Dense\n",
    "from tensorflow.keras.layers import Dropout\n",
    "from tensorflow.keras.optimizers import Adam\n",
    "from tensorflow.keras.optimizers import RMSprop\n",
    "from tensorflow.keras.optimizers import SGD"
   ]
  },
  {
   "cell_type": "markdown",
   "metadata": {},
   "source": [
    "## FILE CONFIGURATION"
   ]
  },
  {
   "cell_type": "markdown",
   "metadata": {},
   "source": [
    "### Extracting Directory"
   ]
  },
  {
   "cell_type": "code",
   "execution_count": 12,
   "metadata": {},
   "outputs": [],
   "source": [
    "# os.mkdir('dataset')\n",
    "dataset_basedir = 'dataset/'"
   ]
  },
  {
   "cell_type": "code",
   "execution_count": 13,
   "metadata": {},
   "outputs": [],
   "source": [
    "zip_dir = 'archive-dataset/archive(4).zip'\n",
    "scanning = zipfile.ZipFile(zip_dir, 'r')\n",
    "scanning.extractall(dataset_basedir)\n",
    "scanning.close()"
   ]
  },
  {
   "cell_type": "markdown",
   "metadata": {},
   "source": [
    "### Monitoring File System"
   ]
  },
  {
   "cell_type": "code",
   "execution_count": 18,
   "metadata": {},
   "outputs": [
    {
     "name": "stdout",
     "output_type": "stream",
     "text": [
      "['dataset', 'bird-classification.ipynb', '.ipynb_checkpoints', 'archive-dataset']\n",
      "\n",
      "['285 birds', 'birds_rev2', 'birds']\n",
      "\n",
      "['images to test', 'valid', 'Bird Species.csv', 'train', 'EfficientNetB3-birds-98.87.h5', 'test', 'one image to test', 'class_dict.csv']\n",
      "\n",
      "285\n",
      "285\n",
      "285\n"
     ]
    }
   ],
   "source": [
    "print(os.listdir('./'))\n",
    "print()\n",
    "print(os.listdir('dataset'))\n",
    "print()\n",
    "print(os.listdir('dataset/285 birds'))\n",
    "print()\n",
    "print(len(os.listdir('dataset/285 birds/train')))\n",
    "print(len(os.listdir('dataset/285 birds/test')))\n",
    "print(len(os.listdir('dataset/285 birds/valid')))"
   ]
  },
  {
   "cell_type": "markdown",
   "metadata": {},
   "source": [
    "### Defining Training and Validation Directory"
   ]
  },
  {
   "cell_type": "code",
   "execution_count": 19,
   "metadata": {},
   "outputs": [],
   "source": [
    "training_dir = 'dataset/285 birds/train'\n",
    "validation_dir = 'dataset/285 birds/valid'"
   ]
  },
  {
   "cell_type": "markdown",
   "metadata": {},
   "source": [
    "### Image Preprocessing"
   ]
  },
  {
   "cell_type": "code",
   "execution_count": 24,
   "metadata": {},
   "outputs": [],
   "source": [
    "train_rule = ImageDataGenerator(\n",
    "    rescale = 1./255,\n",
    "    zoom_range = 0.2,\n",
    "    rotation_range = 0.2,\n",
    "    width_shift_range = 0.2,\n",
    "    height_shift_range = 0.2,\n",
    "    shear_range = 0.2,\n",
    "    fill_mode = 'nearest',\n",
    "    horizontal_flip = True\n",
    ")\n",
    "\n",
    "validation_rule = ImageDataGenerator(\n",
    "    rescale = 1./255\n",
    ")"
   ]
  },
  {
   "cell_type": "code",
   "execution_count": 26,
   "metadata": {},
   "outputs": [
    {
     "name": "stdout",
     "output_type": "stream",
     "text": [
      "Found 40930 images belonging to 285 classes.\n",
      "Found 1425 images belonging to 285 classes.\n"
     ]
    }
   ],
   "source": [
    "train_generator = train_rule.flow_from_directory(\n",
    "    training_dir,\n",
    "    class_mode = 'categorical',\n",
    "    target_size = (150, 150),\n",
    "    batch_size = 20,\n",
    "    shuffle = True\n",
    ")\n",
    "\n",
    "val_generator = validation_rule.flow_from_directory(\n",
    "    validation_dir,\n",
    "    class_mode = 'categorical',\n",
    "    target_size = (150, 150),\n",
    "    batch_size = 20,\n",
    "    shuffle = True\n",
    ")"
   ]
  },
  {
   "cell_type": "markdown",
   "metadata": {},
   "source": [
    "## BUILDING MODEL"
   ]
  },
  {
   "cell_type": "code",
   "execution_count": 37,
   "metadata": {},
   "outputs": [
    {
     "name": "stdout",
     "output_type": "stream",
     "text": [
      "Epoch 1/10\n",
      "2047/2047 [==============================] - 1008s 492ms/step - loss: 2.1192 - acc: 0.4944 - val_loss: 1.3126 - val_acc: 0.6681\n",
      "Epoch 2/10\n",
      "2047/2047 [==============================] - 1417s 692ms/step - loss: 2.0607 - acc: 0.5051 - val_loss: 1.3577 - val_acc: 0.6519\n",
      "Epoch 3/10\n",
      "2047/2047 [==============================] - 1012s 494ms/step - loss: 2.0315 - acc: 0.5137 - val_loss: 1.5243 - val_acc: 0.6196\n",
      "Epoch 4/10\n",
      "2047/2047 [==============================] - 785s 383ms/step - loss: 1.9866 - acc: 0.5215 - val_loss: 1.2799 - val_acc: 0.6646\n",
      "Epoch 5/10\n",
      "2047/2047 [==============================] - 781s 381ms/step - loss: 1.9432 - acc: 0.5282 - val_loss: 1.2241 - val_acc: 0.6898\n",
      "Epoch 6/10\n",
      "2047/2047 [==============================] - 788s 385ms/step - loss: 1.9124 - acc: 0.5368 - val_loss: 1.3307 - val_acc: 0.6653\n",
      "Epoch 7/10\n",
      "2047/2047 [==============================] - 781s 381ms/step - loss: 1.8757 - acc: 0.5439 - val_loss: 1.2120 - val_acc: 0.6982\n",
      "Epoch 8/10\n",
      "2047/2047 [==============================] - 783s 382ms/step - loss: 1.8707 - acc: 0.5459 - val_loss: 1.2070 - val_acc: 0.6856\n",
      "Epoch 9/10\n",
      "2047/2047 [==============================] - 781s 381ms/step - loss: 1.8484 - acc: 0.5460 - val_loss: 1.3890 - val_acc: 0.6618\n",
      "Epoch 10/10\n",
      "2047/2047 [==============================] - 995s 486ms/step - loss: 1.8045 - acc: 0.5570 - val_loss: 1.1530 - val_acc: 0.7039\n"
     ]
    }
   ],
   "source": [
    "# model = Sequential ([\n",
    "#     Conv2D(16, (3, 3), input_shape = (150, 150, 3), activation = 'relu'),\n",
    "#     MaxPooling2D(2, 2),\n",
    "#     Conv2D(32, (3, 3), activation = 'relu'),\n",
    "#     MaxPooling2D(2, 2),\n",
    "#     Conv2D(64, (3, 3), activation = 'relu'),\n",
    "#     MaxPooling2D(2, 2),\n",
    "    \n",
    "#     Flatten(),\n",
    "    \n",
    "#     Dense(128, activation = 'relu'),\n",
    "#     Dense(285, activation = 'softmax')\n",
    "# ])\n",
    "\n",
    "# model.summary()\n",
    "\n",
    "# model.compile (\n",
    "#     loss = 'categorical_crossentropy',\n",
    "#     metrics = ['acc'],\n",
    "#     optimizer = 'adam'\n",
    "# )\n",
    "\n",
    "history = model.fit (\n",
    "    train_generator,\n",
    "    epochs = 10,\n",
    "    validation_data = val_generator\n",
    ")"
   ]
  },
  {
   "cell_type": "markdown",
   "metadata": {},
   "source": [
    "### Saving Model"
   ]
  },
  {
   "cell_type": "code",
   "execution_count": 38,
   "metadata": {},
   "outputs": [],
   "source": [
    "saved_model_path = './model.h5'\n",
    "model.save(saved_model_path)"
   ]
  },
  {
   "cell_type": "markdown",
   "metadata": {},
   "source": [
    "## Drawing Graph"
   ]
  },
  {
   "cell_type": "code",
   "execution_count": 39,
   "metadata": {},
   "outputs": [],
   "source": [
    "acc = history.history['acc']\n",
    "val_acc = history.history['val_acc']\n",
    "loss = history.history['loss']\n",
    "val_loss = history.history['val_loss']\n",
    "\n",
    "epochs = range(len(acc))"
   ]
  },
  {
   "cell_type": "code",
   "execution_count": 42,
   "metadata": {},
   "outputs": [
    {
     "data": {
      "image/png": "[encoded data removed]",
      "text/plain": [
       "<Figure size 432x288 with 1 Axes>"
      ]
     },
     "metadata": {
      "needs_background": "light"
     },
     "output_type": "display_data"
    }
   ],
   "source": [
    "plt.plot(epochs, acc, 'r', label='Training Accuracy')\n",
    "plt.plot(epochs, val_acc, 'b', label='Validation Accuracy')\n",
    "plt.title('Training vs Validation Accuracy')\n",
    "plt.legend(loc=4)\n",
    "plt.show()"
   ]
  },
  {
   "cell_type": "code",
   "execution_count": 43,
   "metadata": {},
   "outputs": [
    {
     "data": {
      "image/png": "[encoded data removed]",
      "text/plain": [
       "<Figure size 432x288 with 1 Axes>"
      ]
     },
     "metadata": {
      "needs_background": "light"
     },
     "output_type": "display_data"
    }
   ],
   "source": [
    "plt.plot(epochs, loss, 'r', label='Training Loss')\n",
    "plt.plot(epochs, val_loss, 'b', label='Validation Loss')\n",
    "plt.legend(loc=0)\n",
    "plt.title('Training vs Validation Loss')\n",
    "plt.show()"
   ]
  },
  {
   "cell_type": "code",
   "execution_count": null,
   "metadata": {},
   "outputs": [],
   "source": []
  }
 ],
 "metadata": {
  "kernelspec": {
   "display_name": "Python 3",
   "language": "python",
   "name": "python3"
  },
  "language_info": {
   "codemirror_mode": {
    "name": "ipython",
    "version": 3
   },
   "file_extension": ".py",
   "mimetype": "text/x-python",
   "name": "python",
   "nbconvert_exporter": "python",
   "pygments_lexer": "ipython3",
   "version": "3.7.3"
  }
 },
 "nbformat": 4,
 "nbformat_minor": 2
}
