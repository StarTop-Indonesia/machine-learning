{
 "cells": [
  {
   "cell_type": "markdown",
   "metadata": {},
   "source": [
    "## IMPORTING LIBRARY"
   ]
  },
  {
   "cell_type": "code",
   "execution_count": 1,
   "metadata": {},
   "outputs": [],
   "source": [
    "import tensorflow as tf\n",
    "import zipfile\n",
    "import os\n",
    "import matplotlib.pyplot as plt\n",
    "\n",
    "\n",
    "from tensorflow.keras.preprocessing import image\n",
    "from tensorflow.keras.preprocessing.image import ImageDataGenerator\n",
    "from tensorflow.keras.models import Sequential\n",
    "from tensorflow.keras.layers import Conv2D\n",
    "from tensorflow.keras.layers import MaxPooling2D\n",
    "from tensorflow.keras.layers import Flatten\n",
    "from tensorflow.keras.layers import Dense\n",
    "from tensorflow.keras.layers import Dropout\n",
    "from tensorflow.keras.optimizers import Adam\n",
    "from tensorflow.keras.optimizers import RMSprop\n",
    "from tensorflow.keras.optimizers import SGD\n",
    "from tensorflow.keras.models import load_model"
   ]
  },
  {
   "cell_type": "markdown",
   "metadata": {},
   "source": [
    "## FILE CONFIGURATION"
   ]
  },
  {
   "cell_type": "markdown",
   "metadata": {},
   "source": [
    "### Extracting Directory"
   ]
  },
  {
   "cell_type": "code",
   "execution_count": 12,
   "metadata": {},
   "outputs": [],
   "source": [
    "# os.mkdir('dataset')\n",
    "dataset_basedir = 'dataset/'"
   ]
  },
  {
   "cell_type": "code",
   "execution_count": 13,
   "metadata": {},
   "outputs": [],
   "source": [
    "zip_dir = 'archive-dataset/archive(4).zip'\n",
    "scanning = zipfile.ZipFile(zip_dir, 'r')\n",
    "scanning.extractall(dataset_basedir)\n",
    "scanning.close()"
   ]
  },
  {
   "cell_type": "markdown",
   "metadata": {},
   "source": [
    "### Monitoring File System"
   ]
  },
  {
   "cell_type": "code",
   "execution_count": 18,
   "metadata": {},
   "outputs": [
    {
     "name": "stdout",
     "output_type": "stream",
     "text": [
      "['dataset', 'bird-classification.ipynb', '.ipynb_checkpoints', 'archive-dataset']\n",
      "\n",
      "['285 birds', 'birds_rev2', 'birds']\n",
      "\n",
      "['images to test', 'valid', 'Bird Species.csv', 'train', 'EfficientNetB3-birds-98.87.h5', 'test', 'one image to test', 'class_dict.csv']\n",
      "\n",
      "285\n",
      "285\n",
      "285\n"
     ]
    }
   ],
   "source": [
    "print(os.listdir('./'))\n",
    "print()\n",
    "print(os.listdir('dataset'))\n",
    "print()\n",
    "print(os.listdir('dataset/285 birds'))\n",
    "print()\n",
    "print(len(os.listdir('dataset/285 birds/train')))\n",
    "print(len(os.listdir('dataset/285 birds/test')))\n",
    "print(len(os.listdir('dataset/285 birds/valid')))"
   ]
  },
  {
   "cell_type": "markdown",
   "metadata": {},
   "source": [
    "### Defining Training and Validation Directory"
   ]
  },
  {
   "cell_type": "code",
   "execution_count": 4,
   "metadata": {},
   "outputs": [],
   "source": [
    "training_dir = 'dataset/285 birds/train'\n",
    "validation_dir = 'dataset/285 birds/valid'"
   ]
  },
  {
   "cell_type": "markdown",
   "metadata": {},
   "source": [
    "### Image Preprocessing"
   ]
  },
  {
   "cell_type": "code",
   "execution_count": 5,
   "metadata": {},
   "outputs": [],
   "source": [
    "train_rule = ImageDataGenerator(\n",
    "    rescale = 1./255,\n",
    "    zoom_range = 0.2,\n",
    "    rotation_range = 0.2,\n",
    "    width_shift_range = 0.2,\n",
    "    height_shift_range = 0.2,\n",
    "    shear_range = 0.2,\n",
    "    fill_mode = 'nearest',\n",
    "    horizontal_flip = True\n",
    ")\n",
    "\n",
    "validation_rule = ImageDataGenerator(\n",
    "    rescale = 1./255\n",
    ")"
   ]
  },
  {
   "cell_type": "code",
   "execution_count": 6,
   "metadata": {},
   "outputs": [
    {
     "name": "stdout",
     "output_type": "stream",
     "text": [
      "Found 40930 images belonging to 285 classes.\n",
      "Found 1425 images belonging to 285 classes.\n"
     ]
    }
   ],
   "source": [
    "train_generator = train_rule.flow_from_directory(\n",
    "    training_dir,\n",
    "    class_mode = 'categorical',\n",
    "    target_size = (150, 150),\n",
    "    batch_size = 20,\n",
    "    shuffle = True\n",
    ")\n",
    "\n",
    "val_generator = validation_rule.flow_from_directory(\n",
    "    validation_dir,\n",
    "    class_mode = 'categorical',\n",
    "    target_size = (150, 150),\n",
    "    batch_size = 20,\n",
    "    shuffle = True\n",
    ")"
   ]
  },
  {
   "cell_type": "markdown",
   "metadata": {},
   "source": [
    "## LOAD MODEL"
   ]
  },
  {
   "cell_type": "code",
   "execution_count": 7,
   "metadata": {},
   "outputs": [],
   "source": [
    "model = load_model('model.h5')"
   ]
  },
  {
   "cell_type": "markdown",
   "metadata": {},
   "source": [
    "## BUILDING MODEL"
   ]
  },
  {
   "cell_type": "code",
   "execution_count": 18,
   "metadata": {},
   "outputs": [
    {
     "name": "stdout",
     "output_type": "stream",
     "text": [
      "Epoch 1/33\n",
      "2047/2047 [==============================] - 788s 385ms/step - loss: 1.4855 - acc: 0.6274 - val_loss: 1.1086 - val_acc: 0.7137\n",
      "Epoch 2/33\n",
      "2047/2047 [==============================] - 811s 396ms/step - loss: 1.4874 - acc: 0.6272 - val_loss: 1.1585 - val_acc: 0.7074\n",
      "Epoch 3/33\n",
      "2047/2047 [==============================] - 807s 394ms/step - loss: 1.4699 - acc: 0.6282 - val_loss: 1.1480 - val_acc: 0.7249\n",
      "Epoch 4/33\n",
      "2047/2047 [==============================] - 795s 388ms/step - loss: 1.4786 - acc: 0.6272 - val_loss: 0.9960 - val_acc: 0.7411\n",
      "Epoch 5/33\n",
      "2047/2047 [==============================] - 785s 383ms/step - loss: 1.4778 - acc: 0.6274 - val_loss: 1.0163 - val_acc: 0.7270\n",
      "Epoch 6/33\n",
      "2047/2047 [==============================] - 770s 376ms/step - loss: 1.4767 - acc: 0.6291 - val_loss: 1.0477 - val_acc: 0.7235\n",
      "Epoch 7/33\n",
      "2047/2047 [==============================] - 1541s 753ms/step - loss: 1.4623 - acc: 0.6327 - val_loss: 1.0195 - val_acc: 0.7354\n",
      "Epoch 8/33\n",
      "2047/2047 [==============================] - 770s 376ms/step - loss: 1.4707 - acc: 0.6308 - val_loss: 1.1656 - val_acc: 0.7137\n",
      "Epoch 9/33\n",
      "2047/2047 [==============================] - 769s 376ms/step - loss: 1.4649 - acc: 0.6336 - val_loss: 1.0815 - val_acc: 0.7214\n",
      "Epoch 10/33\n",
      "2047/2047 [==============================] - 769s 375ms/step - loss: 1.4585 - acc: 0.6331 - val_loss: 1.0584 - val_acc: 0.7172\n",
      "Epoch 11/33\n",
      "2047/2047 [==============================] - 876s 428ms/step - loss: 1.4599 - acc: 0.6334 - val_loss: 1.0125 - val_acc: 0.7263\n",
      "Epoch 12/33\n",
      "2047/2047 [==============================] - 910s 444ms/step - loss: 1.4509 - acc: 0.6335 - val_loss: 1.0622 - val_acc: 0.7291\n",
      "Epoch 13/33\n",
      "2047/2047 [==============================] - 772s 377ms/step - loss: 1.4694 - acc: 0.6286 - val_loss: 1.0166 - val_acc: 0.7432\n",
      "Epoch 14/33\n",
      "2047/2047 [==============================] - 773s 378ms/step - loss: 1.4505 - acc: 0.6338 - val_loss: 1.1342 - val_acc: 0.7291\n",
      "Epoch 15/33\n",
      "2047/2047 [==============================] - 769s 376ms/step - loss: 1.4523 - acc: 0.6347 - val_loss: 0.9833 - val_acc: 0.7467\n",
      "Epoch 16/33\n",
      "2047/2047 [==============================] - 772s 377ms/step - loss: 1.4490 - acc: 0.6380 - val_loss: 1.0219 - val_acc: 0.7382\n",
      "Epoch 17/33\n",
      "2047/2047 [==============================] - 767s 375ms/step - loss: 1.4455 - acc: 0.6354 - val_loss: 1.1133 - val_acc: 0.7221\n",
      "Epoch 18/33\n",
      "2047/2047 [==============================] - 770s 376ms/step - loss: 1.4427 - acc: 0.6384 - val_loss: 1.2606 - val_acc: 0.6968\n",
      "Epoch 19/33\n",
      "2047/2047 [==============================] - 769s 376ms/step - loss: 1.4351 - acc: 0.6375 - val_loss: 0.9893 - val_acc: 0.7425\n",
      "Epoch 20/33\n",
      "2047/2047 [==============================] - 770s 376ms/step - loss: 1.4390 - acc: 0.6388 - val_loss: 1.0355 - val_acc: 0.7347\n",
      "Epoch 21/33\n",
      "2047/2047 [==============================] - 770s 376ms/step - loss: 1.4173 - acc: 0.6443 - val_loss: 1.0777 - val_acc: 0.7151\n",
      "Epoch 22/33\n",
      "2047/2047 [==============================] - 770s 376ms/step - loss: 1.4320 - acc: 0.6397 - val_loss: 0.9281 - val_acc: 0.7481\n",
      "Epoch 23/33\n",
      "2047/2047 [==============================] - 770s 376ms/step - loss: 1.4214 - acc: 0.6393 - val_loss: 1.1152 - val_acc: 0.7235\n",
      "Epoch 24/33\n",
      "2047/2047 [==============================] - 770s 376ms/step - loss: 1.4255 - acc: 0.6414 - val_loss: 1.0892 - val_acc: 0.7298\n",
      "Epoch 25/33\n",
      "2047/2047 [==============================] - 770s 376ms/step - loss: 1.4227 - acc: 0.6393 - val_loss: 0.9461 - val_acc: 0.7537\n",
      "Epoch 26/33\n",
      "2047/2047 [==============================] - 770s 376ms/step - loss: 1.4248 - acc: 0.6407 - val_loss: 1.0266 - val_acc: 0.7481\n",
      "Epoch 27/33\n",
      "2047/2047 [==============================] - 770s 376ms/step - loss: 1.4223 - acc: 0.6417 - val_loss: 0.9431 - val_acc: 0.7586\n",
      "Epoch 28/33\n",
      "2047/2047 [==============================] - 770s 376ms/step - loss: 1.4201 - acc: 0.6430 - val_loss: 0.9632 - val_acc: 0.7460\n",
      "Epoch 29/33\n",
      "2047/2047 [==============================] - 775s 378ms/step - loss: 1.4221 - acc: 0.6431 - val_loss: 1.1988 - val_acc: 0.6961\n",
      "Epoch 30/33\n",
      "2047/2047 [==============================] - 796s 389ms/step - loss: 1.4150 - acc: 0.6467 - val_loss: 1.0974 - val_acc: 0.7214\n",
      "Epoch 31/33\n",
      "2047/2047 [==============================] - 785s 383ms/step - loss: 1.4130 - acc: 0.6448 - val_loss: 0.9132 - val_acc: 0.7663\n",
      "Epoch 32/33\n",
      "2047/2047 [==============================] - 771s 377ms/step - loss: 1.4139 - acc: 0.6431 - val_loss: 1.1457 - val_acc: 0.7165\n",
      "Epoch 33/33\n",
      "2047/2047 [==============================] - 771s 377ms/step - loss: 1.4104 - acc: 0.6465 - val_loss: 1.2190 - val_acc: 0.7018\n"
     ]
    }
   ],
   "source": [
    "# model = Sequential ([\n",
    "#     Conv2D(16, (3, 3), input_shape = (150, 150, 3), activation = 'relu'),\n",
    "#     MaxPooling2D(2, 2),\n",
    "#     Conv2D(32, (3, 3), activation = 'relu'),\n",
    "#     MaxPooling2D(2, 2),\n",
    "#     Conv2D(64, (3, 3), activation = 'relu'),\n",
    "#     MaxPooling2D(2, 2),\n",
    "    \n",
    "#     Flatten(),\n",
    "    \n",
    "#     Dense(128, activation = 'relu'),\n",
    "#     Dense(285, activation = 'softmax')\n",
    "# ])\n",
    "\n",
    "# model.summary()\n",
    "\n",
    "# model.compile (\n",
    "#     loss = 'categorical_crossentropy',\n",
    "#     metrics = ['acc'],\n",
    "#     optimizer = 'adam'\n",
    "# )\n",
    "\n",
    "history = model.fit (\n",
    "    train_generator,\n",
    "    epochs = 33,\n",
    "    validation_data = val_generator\n",
    ")"
   ]
  },
  {
   "cell_type": "markdown",
   "metadata": {},
   "source": [
    "### Saving Model"
   ]
  },
  {
   "cell_type": "code",
   "execution_count": 23,
   "metadata": {},
   "outputs": [],
   "source": [
    "saved_model_path = './model.h5'\n",
    "model.save(saved_model_path)"
   ]
  },
  {
   "cell_type": "markdown",
   "metadata": {},
   "source": [
    "## Drawing Graph"
   ]
  },
  {
   "cell_type": "code",
   "execution_count": 24,
   "metadata": {},
   "outputs": [],
   "source": [
    "acc = history.history['acc']\n",
    "val_acc = history.history['val_acc']\n",
    "loss = history.history['loss']\n",
    "val_loss = history.history['val_loss']\n",
    "\n",
    "epochs = range(len(acc))"
   ]
  },
  {
   "cell_type": "code",
   "execution_count": 25,
   "metadata": {},
   "outputs": [
    {
     "data": {
      "image/png": "[encoded data removed]",
      "text/plain": [
       "<Figure size 432x288 with 1 Axes>"
      ]
     },
     "metadata": {
      "needs_background": "light"
     },
     "output_type": "display_data"
    }
   ],
   "source": [
    "plt.plot(epochs, acc, 'r', label='Training Accuracy')\n",
    "plt.plot(epochs, val_acc, 'b', label='Validation Accuracy')\n",
    "plt.title('Training vs Validation Accuracy')\n",
    "plt.legend(loc=4)\n",
    "plt.show()"
   ]
  },
  {
   "cell_type": "code",
   "execution_count": 26,
   "metadata": {},
   "outputs": [
    {
     "data": {
      "image/png": "[encoded data removed]",
      "text/plain": [
       "<Figure size 432x288 with 1 Axes>"
      ]
     },
     "metadata": {
      "needs_background": "light"
     },
     "output_type": "display_data"
    }
   ],
   "source": [
    "plt.plot(epochs, loss, 'r', label='Training Loss')\n",
    "plt.plot(epochs, val_loss, 'b', label='Validation Loss')\n",
    "plt.legend(loc=0)\n",
    "plt.title('Training vs Validation Loss')\n",
    "plt.show()"
   ]
  },
  {
   "cell_type": "code",
   "execution_count": null,
   "metadata": {},
   "outputs": [],
   "source": []
  },
  {
   "cell_type": "code",
   "execution_count": null,
   "metadata": {},
   "outputs": [],
   "source": []
  }
 ],
 "metadata": {
  "kernelspec": {
   "display_name": "Python 3",
   "language": "python",
   "name": "python3"
  },
  "language_info": {
   "codemirror_mode": {
    "name": "ipython",
    "version": 3
   },
   "file_extension": ".py",
   "mimetype": "text/x-python",
   "name": "python",
   "nbconvert_exporter": "python",
   "pygments_lexer": "ipython3",
   "version": "3.7.3"
  }
 },
 "nbformat": 4,
 "nbformat_minor": 2
}
